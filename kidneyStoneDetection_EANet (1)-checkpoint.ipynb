{
 "cells": [
  {
   "cell_type": "code",
   "execution_count": 1,
   "metadata": {},
   "outputs": [
    {
     "name": "stdout",
     "output_type": "stream",
     "text": [
      "start\n"
     ]
    }
   ],
   "source": [
    "print('start')"
   ]
  },
  {
   "cell_type": "code",
   "execution_count": 27,
   "metadata": {
    "colab": {
     "base_uri": "https://localhost:8080/"
    },
    "id": "OIilbmQYKp-8",
    "outputId": "2a54e8fa-4262-48ad-ad6f-3d2bd47008fc"
   },
   "outputs": [
    {
     "name": "stdout",
     "output_type": "stream",
     "text": [
      "Drive already mounted at /content/drive; to attempt to forcibly remount, call drive.mount(\"/content/drive\", force_remount=True).\n"
     ]
    }
   ],
   "source": [
    "from google.colab import drive\n",
    "drive.mount('/content/drive')"
   ]
  },
  {
   "cell_type": "code",
   "execution_count": 28,
   "metadata": {
    "colab": {
     "base_uri": "https://localhost:8080/",
     "height": 661
    },
    "id": "ghInKLBc-VHT",
    "outputId": "8ad40bc8-2be7-4953-fe0d-67631ba0e227"
   },
   "outputs": [
    {
     "name": "stdout",
     "output_type": "stream",
     "text": [
      "Looking in indexes: https://pypi.org/simple, https://us-python.pkg.dev/colab-wheels/public/simple/\n",
      "Collecting tensorflow-addons==0.8.3\n",
      "  Using cached tensorflow_addons-0.8.3-cp37-cp37m-manylinux2010_x86_64.whl (1.0 MB)\n",
      "Requirement already satisfied: typeguard in /usr/local/lib/python3.7/dist-packages (from tensorflow-addons==0.8.3) (2.7.1)\n",
      "Installing collected packages: tensorflow-addons\n",
      "  Attempting uninstall: tensorflow-addons\n",
      "    Found existing installation: tensorflow-addons 0.17.1\n",
      "    Uninstalling tensorflow-addons-0.17.1:\n",
      "      Successfully uninstalled tensorflow-addons-0.17.1\n",
      "Successfully installed tensorflow-addons-0.8.3\n"
     ]
    },
    {
     "data": {
      "application/vnd.colab-display-data+json": {
       "pip_warning": {
        "packages": [
         "tensorflow_addons"
        ]
       }
      }
     },
     "metadata": {},
     "output_type": "display_data"
    },
    {
     "name": "stdout",
     "output_type": "stream",
     "text": [
      "Looking in indexes: https://pypi.org/simple, https://us-python.pkg.dev/colab-wheels/public/simple/\n",
      "\u001b[31mERROR: Could not find a version that satisfies the requirement tensorflow==2.2.0-rc3 (from versions: 1.13.1, 1.13.2, 1.14.0, 1.15.0, 1.15.2, 1.15.3, 1.15.4, 1.15.5, 2.0.0, 2.0.1, 2.0.2, 2.0.3, 2.0.4, 2.1.0, 2.1.1, 2.1.2, 2.1.3, 2.1.4, 2.2.0, 2.2.1, 2.2.2, 2.2.3, 2.3.0, 2.3.1, 2.3.2, 2.3.3, 2.3.4, 2.4.0, 2.4.1, 2.4.2, 2.4.3, 2.4.4, 2.5.0, 2.5.1, 2.5.2, 2.5.3, 2.6.0rc0, 2.6.0rc1, 2.6.0rc2, 2.6.0, 2.6.0+zzzcolab20220506153740, 2.6.1, 2.6.2, 2.6.3, 2.6.4, 2.6.4+zzzcolab20220516125453, 2.6.5, 2.6.5+zzzcolab20220523104206, 2.7.0rc0, 2.7.0rc1, 2.7.0, 2.7.0+zzzcolab20220506150900, 2.7.1, 2.7.2, 2.7.2+zzzcolab20220516114640, 2.7.3, 2.7.3+zzzcolab20220523111007, 2.7.4, 2.8.0rc0, 2.8.0rc1, 2.8.0, 2.8.0+zzzcolab20220506162203, 2.8.1, 2.8.1+zzzcolab20220516111314, 2.8.1+zzzcolab20220518083849, 2.8.2, 2.8.2+zzzcolab20220523105045, 2.8.2+zzzcolab20220527125636, 2.8.2+zzzcolab20220629235552, 2.8.2+zzzcolab20220714152931, 2.8.2+zzzcolab20220714162028, 2.8.2+zzzcolab20220719082949, 2.8.2+zzzcolab20220822160911, 2.8.3, 2.9.0rc0, 2.9.0rc1, 2.9.0rc2, 2.9.0, 2.9.1, 2.9.2, 2.10.0rc0, 2.10.0rc1, 2.10.0rc2, 2.10.0rc3)\u001b[0m\n",
      "\u001b[31mERROR: No matching distribution found for tensorflow==2.2.0-rc3\u001b[0m\n",
      "Looking in indexes: https://pypi.org/simple, https://us-python.pkg.dev/colab-wheels/public/simple/\n",
      "Requirement already satisfied: tensorflow-addons in /usr/local/lib/python3.7/dist-packages (0.8.3)\n",
      "Collecting tensorflow-addons\n",
      "  Using cached tensorflow_addons-0.17.1-cp37-cp37m-manylinux_2_17_x86_64.manylinux2014_x86_64.whl (1.1 MB)\n",
      "Requirement already satisfied: packaging in /usr/local/lib/python3.7/dist-packages (from tensorflow-addons) (21.3)\n",
      "Requirement already satisfied: typeguard>=2.7 in /usr/local/lib/python3.7/dist-packages (from tensorflow-addons) (2.7.1)\n",
      "Requirement already satisfied: pyparsing!=3.0.5,>=2.0.2 in /usr/local/lib/python3.7/dist-packages (from packaging->tensorflow-addons) (3.0.9)\n",
      "Installing collected packages: tensorflow-addons\n",
      "  Attempting uninstall: tensorflow-addons\n",
      "    Found existing installation: tensorflow-addons 0.8.3\n",
      "    Uninstalling tensorflow-addons-0.8.3:\n",
      "      Successfully uninstalled tensorflow-addons-0.8.3\n",
      "Successfully installed tensorflow-addons-0.17.1\n"
     ]
    },
    {
     "data": {
      "application/vnd.colab-display-data+json": {
       "pip_warning": {
        "packages": [
         "tensorflow_addons"
        ]
       }
      }
     },
     "metadata": {},
     "output_type": "display_data"
    }
   ],
   "source": [
    "!pip install tensorflow-addons==0.8.3\n",
    "!pip install tensorflow==2.2.0-rc3\n",
    "!pip install -U tensorflow-addons\n",
    "!pip install -U gdown -q"
   ]
  },
  {
   "cell_type": "code",
   "execution_count": 29,
   "metadata": {
    "id": "3ysGJNUO-VGZ"
   },
   "outputs": [],
   "source": [
    "import os\n",
    "import glob\n",
    "import numpy as np\n",
    "import pandas as pd\n",
    "import cv2\n",
    "import gdown\n",
    "import zipfile\n",
    "from io import BytesIO\n",
    "from concurrent import futures\n",
    "import threading\n",
    "\n",
    "from sklearn.model_selection import train_test_split\n",
    "from sklearn.metrics import accuracy_score, confusion_matrix, classification_report\n",
    "from collections import Counter\n",
    "import matplotlib.pyplot as plt\n",
    "\n",
    "import tensorflow as tf\n",
    "from tensorflow import keras\n",
    "from tensorflow.keras import layers\n",
    "import tensorflow_addons as tfa\n",
    "\n",
    "import requests\n",
    "import tensorflow_hub as hub\n",
    "from PIL import Image\n",
    "from sklearn.preprocessing import MinMaxScaler"
   ]
  },
  {
   "cell_type": "code",
   "execution_count": 30,
   "metadata": {
    "colab": {
     "base_uri": "https://localhost:8080/"
    },
    "id": "3RYCeCVrucw8",
    "outputId": "5868f459-9cb3-4960-c29c-8e422971689c"
   },
   "outputs": [
    {
     "data": {
      "text/plain": [
       "(3719, 5077, 1377, 2283)"
      ]
     },
     "execution_count": 30,
     "metadata": {},
     "output_type": "execute_result"
    }
   ],
   "source": [
    "#Data Loading\n",
    "# set root as images folder path of dataset\n",
    "root =\"/content/drive/MyDrive/ColabNotebooks/Kidneystonedetection/CT-KIDNEY-DATASET-Normal-Cyst-Tumor-Stone\"\n",
    "\n",
    "\n",
    "# read dataset\n",
    "base_dir = os.path.join(root)\n",
    "cyst_dir = os.path.join(base_dir,'Cyst')\n",
    "normal_dir = os.path.join(base_dir,'Normal')\n",
    "stone_dir = os.path.join(base_dir,'Stone')\n",
    "tumor_dir = os.path.join(base_dir,'Tumor')\n",
    "\n",
    "cyst_files = glob.glob(cyst_dir+'/*.jpg')\n",
    "normal_files = glob.glob(normal_dir+'/*.jpg')\n",
    "stone_files = glob.glob(stone_dir+'/*.jpg')\n",
    "tumor_files = glob.glob(tumor_dir+'/*.jpg')\n",
    "\n",
    "len(cyst_files), len(normal_files),len(stone_files), len(tumor_files) "
   ]
  },
  {
   "cell_type": "code",
   "execution_count": 31,
   "metadata": {
    "colab": {
     "base_uri": "https://localhost:8080/",
     "height": 206
    },
    "id": "XEzR9pESxEvM",
    "outputId": "196f6876-9d17-4577-b6ce-7d72f8bbf91b"
   },
   "outputs": [
    {
     "data": {
      "text/html": [
       "\n",
       "  <div id=\"df-e2d6bc48-ba0d-410c-b2d2-8c8cf763e573\">\n",
       "    <div class=\"colab-df-container\">\n",
       "      <div>\n",
       "<style scoped>\n",
       "    .dataframe tbody tr th:only-of-type {\n",
       "        vertical-align: middle;\n",
       "    }\n",
       "\n",
       "    .dataframe tbody tr th {\n",
       "        vertical-align: top;\n",
       "    }\n",
       "\n",
       "    .dataframe thead th {\n",
       "        text-align: right;\n",
       "    }\n",
       "</style>\n",
       "<table border=\"1\" class=\"dataframe\">\n",
       "  <thead>\n",
       "    <tr style=\"text-align: right;\">\n",
       "      <th></th>\n",
       "      <th>filename</th>\n",
       "      <th>label</th>\n",
       "    </tr>\n",
       "  </thead>\n",
       "  <tbody>\n",
       "    <tr>\n",
       "      <th>0</th>\n",
       "      <td>/content/drive/MyDrive/ColabNotebooks/Kidneyst...</td>\n",
       "      <td>Cyst</td>\n",
       "    </tr>\n",
       "    <tr>\n",
       "      <th>1</th>\n",
       "      <td>/content/drive/MyDrive/ColabNotebooks/Kidneyst...</td>\n",
       "      <td>Cyst</td>\n",
       "    </tr>\n",
       "    <tr>\n",
       "      <th>2</th>\n",
       "      <td>/content/drive/MyDrive/ColabNotebooks/Kidneyst...</td>\n",
       "      <td>Stone</td>\n",
       "    </tr>\n",
       "    <tr>\n",
       "      <th>3</th>\n",
       "      <td>/content/drive/MyDrive/ColabNotebooks/Kidneyst...</td>\n",
       "      <td>Cyst</td>\n",
       "    </tr>\n",
       "    <tr>\n",
       "      <th>4</th>\n",
       "      <td>/content/drive/MyDrive/ColabNotebooks/Kidneyst...</td>\n",
       "      <td>Tumor</td>\n",
       "    </tr>\n",
       "  </tbody>\n",
       "</table>\n",
       "</div>\n",
       "      <button class=\"colab-df-convert\" onclick=\"convertToInteractive('df-e2d6bc48-ba0d-410c-b2d2-8c8cf763e573')\"\n",
       "              title=\"Convert this dataframe to an interactive table.\"\n",
       "              style=\"display:none;\">\n",
       "        \n",
       "  <svg xmlns=\"http://www.w3.org/2000/svg\" height=\"24px\"viewBox=\"0 0 24 24\"\n",
       "       width=\"24px\">\n",
       "    <path d=\"M0 0h24v24H0V0z\" fill=\"none\"/>\n",
       "    <path d=\"M18.56 5.44l.94 2.06.94-2.06 2.06-.94-2.06-.94-.94-2.06-.94 2.06-2.06.94zm-11 1L8.5 8.5l.94-2.06 2.06-.94-2.06-.94L8.5 2.5l-.94 2.06-2.06.94zm10 10l.94 2.06.94-2.06 2.06-.94-2.06-.94-.94-2.06-.94 2.06-2.06.94z\"/><path d=\"M17.41 7.96l-1.37-1.37c-.4-.4-.92-.59-1.43-.59-.52 0-1.04.2-1.43.59L10.3 9.45l-7.72 7.72c-.78.78-.78 2.05 0 2.83L4 21.41c.39.39.9.59 1.41.59.51 0 1.02-.2 1.41-.59l7.78-7.78 2.81-2.81c.8-.78.8-2.07 0-2.86zM5.41 20L4 18.59l7.72-7.72 1.47 1.35L5.41 20z\"/>\n",
       "  </svg>\n",
       "      </button>\n",
       "      \n",
       "  <style>\n",
       "    .colab-df-container {\n",
       "      display:flex;\n",
       "      flex-wrap:wrap;\n",
       "      gap: 12px;\n",
       "    }\n",
       "\n",
       "    .colab-df-convert {\n",
       "      background-color: #E8F0FE;\n",
       "      border: none;\n",
       "      border-radius: 50%;\n",
       "      cursor: pointer;\n",
       "      display: none;\n",
       "      fill: #1967D2;\n",
       "      height: 32px;\n",
       "      padding: 0 0 0 0;\n",
       "      width: 32px;\n",
       "    }\n",
       "\n",
       "    .colab-df-convert:hover {\n",
       "      background-color: #E2EBFA;\n",
       "      box-shadow: 0px 1px 2px rgba(60, 64, 67, 0.3), 0px 1px 3px 1px rgba(60, 64, 67, 0.15);\n",
       "      fill: #174EA6;\n",
       "    }\n",
       "\n",
       "    [theme=dark] .colab-df-convert {\n",
       "      background-color: #3B4455;\n",
       "      fill: #D2E3FC;\n",
       "    }\n",
       "\n",
       "    [theme=dark] .colab-df-convert:hover {\n",
       "      background-color: #434B5C;\n",
       "      box-shadow: 0px 1px 3px 1px rgba(0, 0, 0, 0.15);\n",
       "      filter: drop-shadow(0px 1px 2px rgba(0, 0, 0, 0.3));\n",
       "      fill: #FFFFFF;\n",
       "    }\n",
       "  </style>\n",
       "\n",
       "      <script>\n",
       "        const buttonEl =\n",
       "          document.querySelector('#df-e2d6bc48-ba0d-410c-b2d2-8c8cf763e573 button.colab-df-convert');\n",
       "        buttonEl.style.display =\n",
       "          google.colab.kernel.accessAllowed ? 'block' : 'none';\n",
       "\n",
       "        async function convertToInteractive(key) {\n",
       "          const element = document.querySelector('#df-e2d6bc48-ba0d-410c-b2d2-8c8cf763e573');\n",
       "          const dataTable =\n",
       "            await google.colab.kernel.invokeFunction('convertToInteractive',\n",
       "                                                     [key], {});\n",
       "          if (!dataTable) return;\n",
       "\n",
       "          const docLinkHtml = 'Like what you see? Visit the ' +\n",
       "            '<a target=\"_blank\" href=https://colab.research.google.com/notebooks/data_table.ipynb>data table notebook</a>'\n",
       "            + ' to learn more about interactive tables.';\n",
       "          element.innerHTML = '';\n",
       "          dataTable['output_type'] = 'display_data';\n",
       "          await google.colab.output.renderOutput(dataTable, element);\n",
       "          const docLink = document.createElement('div');\n",
       "          docLink.innerHTML = docLinkHtml;\n",
       "          element.appendChild(docLink);\n",
       "        }\n",
       "      </script>\n",
       "    </div>\n",
       "  </div>\n",
       "  "
      ],
      "text/plain": [
       "                                            filename  label\n",
       "0  /content/drive/MyDrive/ColabNotebooks/Kidneyst...   Cyst\n",
       "1  /content/drive/MyDrive/ColabNotebooks/Kidneyst...   Cyst\n",
       "2  /content/drive/MyDrive/ColabNotebooks/Kidneyst...  Stone\n",
       "3  /content/drive/MyDrive/ColabNotebooks/Kidneyst...   Cyst\n",
       "4  /content/drive/MyDrive/ColabNotebooks/Kidneyst...  Tumor"
      ]
     },
     "execution_count": 31,
     "metadata": {},
     "output_type": "execute_result"
    }
   ],
   "source": [
    "#Check top 5 rows of data\n",
    "np.random.seed(42)\n",
    "\n",
    "files_df = pd.DataFrame({\n",
    "    'filename': cyst_files + normal_files + stone_files + tumor_files,\n",
    "    'label': ['Cyst'] * len(cyst_files) + ['Normal'] * len(normal_files) + ['Stone']* len(stone_files) + ['Tumor'] * len(tumor_files)\n",
    "}).sample(frac=1, random_state=42).reset_index(drop=True)\n",
    "\n",
    "files_df.head()"
   ]
  },
  {
   "cell_type": "markdown",
   "metadata": {
    "id": "P03tTMAxx1RD"
   },
   "source": [
    "Data Preprocessing"
   ]
  },
  {
   "cell_type": "code",
   "execution_count": 32,
   "metadata": {
    "colab": {
     "base_uri": "https://localhost:8080/"
    },
    "id": "ylGYxY5xxmCh",
    "outputId": "8832675e-5d43-43b5-ba2d-ecf0a244d9d1"
   },
   "outputs": [
    {
     "name": "stdout",
     "output_type": "stream",
     "text": [
      "(8719,) (3737,)\n",
      "Train: Counter({'Normal': 3504, 'Cyst': 2623, 'Tumor': 1632, 'Stone': 960}) \n",
      "Test: Counter({'Normal': 1573, 'Cyst': 1096, 'Tumor': 651, 'Stone': 417})\n"
     ]
    }
   ],
   "source": [
    "# Data Splitting\n",
    "# Partition dataset into training(60),testing(30),validation(10) \n",
    "train_files, test_files, train_labels, test_labels = train_test_split(files_df['filename'].values,\n",
    "                                                                      files_df['label'].values, \n",
    "                                                                      test_size=0.3, random_state=42)\n",
    "# train_files, test_files, train_labels, test_labels = train_test_split(files_df['filename'].values,\n",
    "#                                                                       files_df['label'].values,\n",
    "#                                                                       test_size=0.3, random_state=42)\n",
    "print(train_files.shape,  test_files.shape)\n",
    "print('Train:', Counter(train_labels),  '\\nTest:', Counter(test_labels))"
   ]
  },
  {
   "cell_type": "code",
   "execution_count": 33,
   "metadata": {
    "id": "0GYQcGsugAPf"
   },
   "outputs": [],
   "source": [
    "#Watershed segmentation\n",
    "def segmentation(image):\n",
    "  gray_img = cv2.cvtColor(image, cv2.COLOR_BGR2GRAY)\n",
    "\n",
    "  #Performing Otsu's Binarization : This means that if the value of the pixel exceeds the threshold, it would be considered as 1. Else, 0\n",
    "  ret, thresh = cv2.threshold(gray_img, 0, 255, cv2.THRESH_BINARY_INV + cv2.THRESH_OTSU)\n",
    "  #print(\"Threshold limit: \" + str(ret))\n",
    "\n",
    "  #Specifying the Background and Foreground after Noise Removal\n",
    "  # noise removal\n",
    "  kernel = np.ones((3, 3), np.uint8)\n",
    "  opening = cv2.morphologyEx(thresh, cv2.MORPH_OPEN, kernel, iterations = 2)\n",
    "\n",
    "  # sure background area\n",
    "  sure_bg = cv2.dilate(opening, kernel, iterations = 3)\n",
    "\n",
    "  #Performing Distance Transfrom : In distance transfrom, the gray level intensities of the points inside the foreground\n",
    "  # are changed to distance their respective distances from the closest 0 value\n",
    "  \n",
    "  # sure foreground area\n",
    "  dist_transform = cv2.distanceTransform(opening,cv2.DIST_L2,5)\n",
    "  ret, sure_fg = cv2.threshold(dist_transform,0.7*dist_transform.max(),255,0)\n",
    "\n",
    "  # Finding unknown region\n",
    "  sure_fg = np.uint8(sure_fg)\n",
    "  unknown = cv2.subtract(sure_bg,sure_fg)\n",
    "\n",
    "  # Connected Components\n",
    "  ret, markers = cv2.connectedComponents(sure_fg)\n",
    "  markers = markers + 1\n",
    "  markers[unknown==255] = 0\n",
    "\n",
    "  #Applying Watershed Segmentation\n",
    "  markers = cv2.watershed(image, markers)\n",
    "  image[markers == -1] = [0, 255,0]\n",
    "  return image"
   ]
  },
  {
   "cell_type": "code",
   "execution_count": 34,
   "metadata": {
    "colab": {
     "base_uri": "https://localhost:8080/"
    },
    "id": "Fl1Vt1IUyxu3",
    "outputId": "7345ee68-91c4-4a52-d9a8-cf428b956b02"
   },
   "outputs": [
    {
     "name": "stdout",
     "output_type": "stream",
     "text": [
      "Loading Train Images:\n",
      "ThreadPoolExecutor-1_0: working on img num: 0\n",
      "ThreadPoolExecutor-1_3: working on img num: 5000\n",
      "ThreadPoolExecutor-1_9: working on img num: 8718\n",
      "\n",
      "Loading Test Images:\n",
      "ThreadPoolExecutor-1_2: working on img num: 0\n",
      "ThreadPoolExecutor-1_4: working on img num: 3736\n"
     ]
    },
    {
     "data": {
      "text/plain": [
       "((8719, 64, 64, 3), (3737, 64, 64, 3))"
      ]
     },
     "execution_count": 34,
     "metadata": {},
     "output_type": "execute_result"
    }
   ],
   "source": [
    "# Image Resizing and Watershed Segmentation\n",
    "IMG_DIMS = (64,64)\n",
    "INPUT_SHAPE = (64,64, 3)\n",
    "\n",
    "def get_img_data_parallel(idx, img, total_imgs):\n",
    "    if idx % 5000 == 0 or idx == (total_imgs - 1):\n",
    "        print('{}: working on img num: {}'.format(threading.current_thread().name,\n",
    "                                                  idx))\n",
    "    img = cv2.imread(img)\n",
    "    img = cv2.resize(img, dsize=IMG_DIMS, interpolation=cv2.INTER_CUBIC)\n",
    "    img = segmentation(img)\n",
    "    img = np.array(img, dtype=np.float32)\n",
    "    return img\n",
    "\n",
    "ex = futures.ThreadPoolExecutor(max_workers=None)\n",
    "train_data_inp = [(idx, img, len(train_files)) for idx, img in enumerate(train_files)]\n",
    "test_data_inp = [(idx, img, len(test_files)) for idx, img in enumerate(test_files)]\n",
    "\n",
    "print('Loading Train Images:')\n",
    "train_data_map = ex.map(get_img_data_parallel, \n",
    "                        [record[0] for record in train_data_inp],\n",
    "                        [record[1] for record in train_data_inp],\n",
    "                        [record[2] for record in train_data_inp])\n",
    "train_data = np.array(list(train_data_map))\n",
    "\n",
    "print('\\nLoading Test Images:')\n",
    "test_data_map = ex.map(get_img_data_parallel, \n",
    "                        [record[0] for record in test_data_inp],\n",
    "                        [record[1] for record in test_data_inp],\n",
    "                        [record[2] for record in test_data_inp])\n",
    "test_data = np.array(list(test_data_map))\n",
    "\n",
    "train_data.shape,  test_data.shape"
   ]
  },
  {
   "cell_type": "code",
   "execution_count": 35,
   "metadata": {
    "colab": {
     "base_uri": "https://localhost:8080/",
     "height": 485
    },
    "id": "ne0oqaQxzEZs",
    "outputId": "21b19713-bec9-40eb-c2e8-0e33829d6892"
   },
   "outputs": [
    {
     "data": {
      "image/png": "[encoded data removed]",
      "text/plain": [
       "<Figure size 576x576 with 16 Axes>"
      ]
     },
     "metadata": {},
     "output_type": "display_data"
    }
   ],
   "source": [
    "import matplotlib.pyplot as plt\n",
    "%matplotlib inline\n",
    "\n",
    "plt.figure(1 , figsize = (8 , 8))\n",
    "n = 0 \n",
    "for i in range(16):\n",
    "    n += 1 \n",
    "    r = np.random.randint(0 , train_data.shape[0] , 1)\n",
    "    plt.subplot(4 , 4 , n)\n",
    "    plt.subplots_adjust(hspace = 0.5 , wspace = 0.5)\n",
    "    plt.imshow(train_data[r[0]]/255.)\n",
    "    plt.title('{}'.format(train_labels[r[0]]))\n",
    "    plt.xticks([]) , plt.yticks([])"
   ]
  },
  {
   "cell_type": "code",
   "execution_count": 36,
   "metadata": {
    "colab": {
     "base_uri": "https://localhost:8080/",
     "height": 70
    },
    "id": "rhxsKuET2B9g",
    "outputId": "b6d7a630-d54c-469a-ec2c-0513a0a60590"
   },
   "outputs": [
    {
     "name": "stdout",
     "output_type": "stream",
     "text": [
      "The tensorboard extension is already loaded. To reload it, use:\n",
      "  %reload_ext tensorboard\n"
     ]
    },
    {
     "data": {
      "application/vnd.google.colaboratory.intrinsic+json": {
       "type": "string"
      },
      "text/plain": [
       "'2.8.2'"
      ]
     },
     "execution_count": 36,
     "metadata": {},
     "output_type": "execute_result"
    }
   ],
   "source": [
    "import tensorflow as tf\n",
    "# Load the TensorBoard notebook extension (optional)\n",
    "%load_ext tensorboard\n",
    "\n",
    "#tf.random.set_random_seed(42)\n",
    "tf.random.set_seed(42)\n",
    "tf.__version__"
   ]
  },
  {
   "cell_type": "code",
   "execution_count": 37,
   "metadata": {
    "colab": {
     "base_uri": "https://localhost:8080/"
    },
    "id": "D5DmREUQxNkc",
    "outputId": "4a1411eb-da8e-4127-b95b-c2fd1f5b5a45"
   },
   "outputs": [
    {
     "name": "stdout",
     "output_type": "stream",
     "text": [
      "[3 3 0 3 1 0] [[0. 0. 0. 1.]\n",
      " [0. 0. 0. 1.]\n",
      " [1. 0. 0. 0.]\n",
      " [0. 0. 0. 1.]\n",
      " [0. 1. 0. 0.]\n",
      " [1. 0. 0. 0.]]\n"
     ]
    }
   ],
   "source": [
    "# Normalization of data \n",
    "x_train = train_data / 255.\n",
    "x_test = test_data / 255.\n",
    "\n",
    "# encode text category labels\n",
    "from sklearn.preprocessing import LabelEncoder\n",
    "le = LabelEncoder()\n",
    "le.fit(train_labels)\n",
    "train_labels_enc = le.transform(train_labels)\n",
    "test_labels_enc = le.transform(test_labels)\n",
    "\n",
    "y_train = keras.utils.to_categorical(train_labels_enc, 4)\n",
    "y_test = keras.utils.to_categorical(test_labels_enc, 4)\n",
    "\n",
    "print(train_labels_enc[:6], y_train[:6])"
   ]
  },
  {
   "cell_type": "code",
   "execution_count": 38,
   "metadata": {
    "id": "eotqjKTpZtgg"
   },
   "outputs": [],
   "source": [
    "data_augmentation = keras.Sequential(\n",
    "    [\n",
    "        layers.Normalization(),\n",
    "        layers.RandomFlip(\"horizontal\"),\n",
    "        layers.RandomRotation(factor=0.1),\n",
    "        layers.RandomContrast(factor=0.1),\n",
    "        layers.RandomZoom(height_factor=0.2, width_factor=0.2),\n",
    "    ],\n",
    "    name=\"data_augmentation\",\n",
    ")\n",
    "# Compute the mean and the variance of the training data for normalization.\n",
    "data_augmentation.layers[0].adapt(x_train)"
   ]
  },
  {
   "cell_type": "markdown",
   "metadata": {
    "id": "LUrW8aWJ4i1J"
   },
   "source": [
    "# EANet Model"
   ]
  },
  {
   "cell_type": "code",
   "execution_count": 56,
   "metadata": {
    "colab": {
     "base_uri": "https://localhost:8080/"
    },
    "id": "ZtN_OIXRTMRO",
    "outputId": "ca83daaf-7068-4f41-ddc8-c2610f664ee8"
   },
   "outputs": [
    {
     "name": "stdout",
     "output_type": "stream",
     "text": [
      "Patch size: 2 X 2 = 4 \n",
      "Patches per image: 1024\n"
     ]
    }
   ],
   "source": [
    "# Hyper-parameters\n",
    "\n",
    "weight_decay = 0.0001\n",
    "learning_rate = 0.001\n",
    "label_smoothing = 0.1\n",
    "validation_split = 0.2\n",
    "batch_size = 32\n",
    "num_epochs = 25\n",
    "patch_size = 2  # Size of the patches to be extracted from the input images.\n",
    "num_patches = (INPUT_SHAPE[0] // patch_size) ** 2  # Number of patch\n",
    "embedding_dim = 64  # Number of hidden units.\n",
    "mlp_dim = 64\n",
    "dim_coefficient = 4\n",
    "num_heads = 4\n",
    "attention_dropout = 0.2\n",
    "projection_dropout = 0.2\n",
    "num_transformer_blocks = 8  # Number of repetitions of the transformer layer\n",
    "\n",
    "print(f\"Patch size: {patch_size} X {patch_size} = {patch_size ** 2} \")\n",
    "print(f\"Patches per image: {num_patches}\")"
   ]
  },
  {
   "cell_type": "code",
   "execution_count": 57,
   "metadata": {
    "id": "4A1IJeQyTR8f"
   },
   "outputs": [],
   "source": [
    "#Implement the patch extraction and encoding layer\n",
    "class PatchExtract(layers.Layer):\n",
    "    def __init__(self, patch_size, **kwargs):\n",
    "        super(PatchExtract, self).__init__(**kwargs)\n",
    "        self.patch_size = patch_size\n",
    "\n",
    "    def call(self, images):\n",
    "        batch_size = tf.shape(images)[0]\n",
    "        patches = tf.image.extract_patches(\n",
    "            images=images,\n",
    "            sizes=(1, self.patch_size, self.patch_size, 1),\n",
    "            strides=(1, self.patch_size, self.patch_size, 1),\n",
    "            rates=(1, 1, 1, 1),\n",
    "            padding=\"VALID\",\n",
    "        )\n",
    "        patch_dim = patches.shape[-1]\n",
    "        patch_num = patches.shape[1]\n",
    "        return tf.reshape(patches, (batch_size, patch_num * patch_num, patch_dim))\n",
    "\n",
    "\n",
    "class PatchEmbedding(layers.Layer):\n",
    "    def __init__(self, num_patch, embed_dim, **kwargs):\n",
    "        super(PatchEmbedding, self).__init__(**kwargs)\n",
    "        self.num_patch = num_patch\n",
    "        self.proj = layers.Dense(embed_dim)\n",
    "        self.pos_embed = layers.Embedding(input_dim=num_patch, output_dim=embed_dim)\n",
    "\n",
    "    def call(self, patch):\n",
    "        pos = tf.range(start=0, limit=self.num_patch, delta=1)\n",
    "        return self.proj(patch) + self.pos_embed(pos)"
   ]
  },
  {
   "cell_type": "code",
   "execution_count": 58,
   "metadata": {
    "id": "-boROmjcTdDL"
   },
   "outputs": [],
   "source": [
    "#Implement the external attention block\n",
    "def external_attention(\n",
    "    x, dim, num_heads, dim_coefficient=4, attention_dropout=0, projection_dropout=0):\n",
    "    _, num_patch, channel = x.shape\n",
    "    assert dim % num_heads == 0\n",
    "    num_heads = num_heads * dim_coefficient\n",
    "\n",
    "    x = layers.Dense(dim * dim_coefficient)(x)\n",
    "    # create tensor [batch_size, num_patches, num_heads, dim*dim_coefficient//num_heads]\n",
    "    x = tf.reshape(\n",
    "        x, shape=(-1, num_patch, num_heads, dim * dim_coefficient // num_heads)\n",
    "    )\n",
    "    x = tf.transpose(x, perm=[0, 2, 1, 3])\n",
    "    # a linear layer M_k\n",
    "    attn = layers.Dense(dim // dim_coefficient)(x)\n",
    "    # normalize attention map\n",
    "    attn = layers.Softmax(axis=2)(attn)\n",
    "    # dobule-normalization\n",
    "    attn = attn / (1e-9 + tf.reduce_sum(attn, axis=-1, keepdims=True))\n",
    "    attn = layers.Dropout(attention_dropout)(attn)\n",
    "    # a linear layer M_v\n",
    "    x = layers.Dense(dim * dim_coefficient // num_heads)(attn)\n",
    "    x = tf.transpose(x, perm=[0, 2, 1, 3])\n",
    "    x = tf.reshape(x, [-1, num_patch, dim * dim_coefficient])\n",
    "    # a linear layer to project original dim\n",
    "    x = layers.Dense(dim)(x)\n",
    "    x = layers.Dropout(projection_dropout)(x)\n",
    "    return x\n",
    "\n",
    "#Implement the MLP block\n",
    "def mlp(x, embedding_dim, mlp_dim, drop_rate=0.2):\n",
    "    x = layers.Dense(mlp_dim, activation=tf.nn.gelu)(x)\n",
    "    x = layers.Dropout(drop_rate)(x)\n",
    "    x = layers.Dense(embedding_dim)(x)\n",
    "    x = layers.Dropout(drop_rate)(x)\n",
    "    return x\n",
    "\n",
    "#Implement the Transformer block\n",
    "def transformer_encoder(\n",
    "    x,\n",
    "    embedding_dim,\n",
    "    mlp_dim,\n",
    "    num_heads,\n",
    "    dim_coefficient,\n",
    "    attention_dropout,\n",
    "    projection_dropout,\n",
    "    attention_type=\"external_attention\",\n",
    "):\n",
    "    residual_1 = x\n",
    "    x = layers.LayerNormalization(epsilon=1e-5)(x)\n",
    "    if attention_type == \"external_attention\":\n",
    "        x = external_attention(\n",
    "            x,\n",
    "            embedding_dim,\n",
    "            num_heads,\n",
    "            dim_coefficient,\n",
    "            attention_dropout,\n",
    "            projection_dropout,\n",
    "        )\n",
    "    elif attention_type == \"self_attention\":\n",
    "        x = layers.MultiHeadAttention(\n",
    "            num_heads=num_heads, key_dim=embedding_dim, dropout=attention_dropout\n",
    "        )(x, x)\n",
    "    x = layers.add([x, residual_1])\n",
    "    residual_2 = x\n",
    "    x = layers.LayerNormalization(epsilon=1e-5)(x)\n",
    "    x = mlp(x, embedding_dim, mlp_dim)\n",
    "    x = layers.add([x, residual_2])\n",
    "    return x"
   ]
  },
  {
   "cell_type": "code",
   "execution_count": 59,
   "metadata": {
    "id": "Hxscpk3rTpvN"
   },
   "outputs": [],
   "source": [
    "#Implement EANet Model\n",
    "def get_model(attention_type=\"external_attention\"):\n",
    "    inputs = layers.Input(shape=INPUT_SHAPE)\n",
    "    # Image augment\n",
    "    x = data_augmentation(inputs)\n",
    "    # Extract patches.\n",
    "    x = PatchExtract(patch_size)(x)\n",
    "    # Create patch embedding.\n",
    "    x = PatchEmbedding(num_patches, embedding_dim)(x)\n",
    "    # Create Transformer block.\n",
    "    for _ in range(num_transformer_blocks):\n",
    "        x = transformer_encoder(\n",
    "            x,\n",
    "            embedding_dim,\n",
    "            mlp_dim,\n",
    "            num_heads,\n",
    "            dim_coefficient,\n",
    "            attention_dropout,\n",
    "            projection_dropout,\n",
    "            attention_type,\n",
    "        )\n",
    "\n",
    "    x = layers.GlobalAvgPool1D()(x)\n",
    "    outputs = layers.Dense(4, activation=\"softmax\")(x)\n",
    "    model = keras.Model(inputs=inputs, outputs=outputs)\n",
    "    return model"
   ]
  },
  {
   "cell_type": "code",
   "execution_count": 60,
   "metadata": {
    "colab": {
     "base_uri": "https://localhost:8080/"
    },
    "id": "Kfe4r2mBx0Ss",
    "outputId": "ee084c46-470f-4f44-d0e9-402ce01f0866"
   },
   "outputs": [
    {
     "name": "stdout",
     "output_type": "stream",
     "text": [
      "Model: \"model_3\"\n",
      "__________________________________________________________________________________________________\n",
      " Layer (type)                   Output Shape         Param #     Connected to                     \n",
      "==================================================================================================\n",
      " input_4 (InputLayer)           [(None, 64, 64, 3)]  0           []                               \n",
      "                                                                                                  \n",
      " data_augmentation (Sequential)  (None, 64, 64, 3)   7           ['input_4[0][0]']                \n",
      "                                                                                                  \n",
      " patch_extract_3 (PatchExtract)  (None, 1024, 12)    0           ['data_augmentation[2][0]']      \n",
      "                                                                                                  \n",
      " patch_embedding_3 (PatchEmbedd  (None, 1024, 64)    66368       ['patch_extract_3[0][0]']        \n",
      " ing)                                                                                             \n",
      "                                                                                                  \n",
      " layer_normalization_48 (LayerN  (None, 1024, 64)    128         ['patch_embedding_3[0][0]']      \n",
      " ormalization)                                                                                    \n",
      "                                                                                                  \n",
      " dense_151 (Dense)              (None, 1024, 256)    16640       ['layer_normalization_48[0][0]'] \n",
      "                                                                                                  \n",
      " tf.reshape_48 (TFOpLambda)     (None, 1024, 16, 16  0           ['dense_151[0][0]']              \n",
      "                                )                                                                 \n",
      "                                                                                                  \n",
      " tf.compat.v1.transpose_48 (TFO  (None, 16, 1024, 16  0          ['tf.reshape_48[0][0]']          \n",
      " pLambda)                       )                                                                 \n",
      "                                                                                                  \n",
      " dense_152 (Dense)              (None, 16, 1024, 16  272         ['tf.compat.v1.transpose_48[0][0]\n",
      "                                )                                ']                               \n",
      "                                                                                                  \n",
      " softmax_24 (Softmax)           (None, 16, 1024, 16  0           ['dense_152[0][0]']              \n",
      "                                )                                                                 \n",
      "                                                                                                  \n",
      " tf.math.reduce_sum_24 (TFOpLam  (None, 16, 1024, 1)  0          ['softmax_24[0][0]']             \n",
      " bda)                                                                                             \n",
      "                                                                                                  \n",
      " tf.__operators__.add_24 (TFOpL  (None, 16, 1024, 1)  0          ['tf.math.reduce_sum_24[0][0]']  \n",
      " ambda)                                                                                           \n",
      "                                                                                                  \n",
      " tf.math.truediv_24 (TFOpLambda  (None, 16, 1024, 16  0          ['softmax_24[0][0]',             \n",
      " )                              )                                 'tf.__operators__.add_24[0][0]']\n",
      "                                                                                                  \n",
      " dropout_96 (Dropout)           (None, 16, 1024, 16  0           ['tf.math.truediv_24[0][0]']     \n",
      "                                )                                                                 \n",
      "                                                                                                  \n",
      " dense_153 (Dense)              (None, 16, 1024, 16  272         ['dropout_96[0][0]']             \n",
      "                                )                                                                 \n",
      "                                                                                                  \n",
      " tf.compat.v1.transpose_49 (TFO  (None, 1024, 16, 16  0          ['dense_153[0][0]']              \n",
      " pLambda)                       )                                                                 \n",
      "                                                                                                  \n",
      " tf.reshape_49 (TFOpLambda)     (None, 1024, 256)    0           ['tf.compat.v1.transpose_49[0][0]\n",
      "                                                                 ']                               \n",
      "                                                                                                  \n",
      " dense_154 (Dense)              (None, 1024, 64)     16448       ['tf.reshape_49[0][0]']          \n",
      "                                                                                                  \n",
      " dropout_97 (Dropout)           (None, 1024, 64)     0           ['dense_154[0][0]']              \n",
      "                                                                                                  \n",
      " add_48 (Add)                   (None, 1024, 64)     0           ['dropout_97[0][0]',             \n",
      "                                                                  'patch_embedding_3[0][0]']      \n",
      "                                                                                                  \n",
      " layer_normalization_49 (LayerN  (None, 1024, 64)    128         ['add_48[0][0]']                 \n",
      " ormalization)                                                                                    \n",
      "                                                                                                  \n",
      " dense_155 (Dense)              (None, 1024, 64)     4160        ['layer_normalization_49[0][0]'] \n",
      "                                                                                                  \n",
      " dropout_98 (Dropout)           (None, 1024, 64)     0           ['dense_155[0][0]']              \n",
      "                                                                                                  \n",
      " dense_156 (Dense)              (None, 1024, 64)     4160        ['dropout_98[0][0]']             \n",
      "                                                                                                  \n",
      " dropout_99 (Dropout)           (None, 1024, 64)     0           ['dense_156[0][0]']              \n",
      "                                                                                                  \n",
      " add_49 (Add)                   (None, 1024, 64)     0           ['dropout_99[0][0]',             \n",
      "                                                                  'add_48[0][0]']                 \n",
      "                                                                                                  \n",
      " layer_normalization_50 (LayerN  (None, 1024, 64)    128         ['add_49[0][0]']                 \n",
      " ormalization)                                                                                    \n",
      "                                                                                                  \n",
      " dense_157 (Dense)              (None, 1024, 256)    16640       ['layer_normalization_50[0][0]'] \n",
      "                                                                                                  \n",
      " tf.reshape_50 (TFOpLambda)     (None, 1024, 16, 16  0           ['dense_157[0][0]']              \n",
      "                                )                                                                 \n",
      "                                                                                                  \n",
      " tf.compat.v1.transpose_50 (TFO  (None, 16, 1024, 16  0          ['tf.reshape_50[0][0]']          \n",
      " pLambda)                       )                                                                 \n",
      "                                                                                                  \n",
      " dense_158 (Dense)              (None, 16, 1024, 16  272         ['tf.compat.v1.transpose_50[0][0]\n",
      "                                )                                ']                               \n",
      "                                                                                                  \n",
      " softmax_25 (Softmax)           (None, 16, 1024, 16  0           ['dense_158[0][0]']              \n",
      "                                )                                                                 \n",
      "                                                                                                  \n",
      " tf.math.reduce_sum_25 (TFOpLam  (None, 16, 1024, 1)  0          ['softmax_25[0][0]']             \n",
      " bda)                                                                                             \n",
      "                                                                                                  \n",
      " tf.__operators__.add_25 (TFOpL  (None, 16, 1024, 1)  0          ['tf.math.reduce_sum_25[0][0]']  \n",
      " ambda)                                                                                           \n",
      "                                                                                                  \n",
      " tf.math.truediv_25 (TFOpLambda  (None, 16, 1024, 16  0          ['softmax_25[0][0]',             \n",
      " )                              )                                 'tf.__operators__.add_25[0][0]']\n",
      "                                                                                                  \n",
      " dropout_100 (Dropout)          (None, 16, 1024, 16  0           ['tf.math.truediv_25[0][0]']     \n",
      "                                )                                                                 \n",
      "                                                                                                  \n",
      " dense_159 (Dense)              (None, 16, 1024, 16  272         ['dropout_100[0][0]']            \n",
      "                                )                                                                 \n",
      "                                                                                                  \n",
      " tf.compat.v1.transpose_51 (TFO  (None, 1024, 16, 16  0          ['dense_159[0][0]']              \n",
      " pLambda)                       )                                                                 \n",
      "                                                                                                  \n",
      " tf.reshape_51 (TFOpLambda)     (None, 1024, 256)    0           ['tf.compat.v1.transpose_51[0][0]\n",
      "                                                                 ']                               \n",
      "                                                                                                  \n",
      " dense_160 (Dense)              (None, 1024, 64)     16448       ['tf.reshape_51[0][0]']          \n",
      "                                                                                                  \n",
      " dropout_101 (Dropout)          (None, 1024, 64)     0           ['dense_160[0][0]']              \n",
      "                                                                                                  \n",
      " add_50 (Add)                   (None, 1024, 64)     0           ['dropout_101[0][0]',            \n",
      "                                                                  'add_49[0][0]']                 \n",
      "                                                                                                  \n",
      " layer_normalization_51 (LayerN  (None, 1024, 64)    128         ['add_50[0][0]']                 \n",
      " ormalization)                                                                                    \n",
      "                                                                                                  \n",
      " dense_161 (Dense)              (None, 1024, 64)     4160        ['layer_normalization_51[0][0]'] \n",
      "                                                                                                  \n",
      " dropout_102 (Dropout)          (None, 1024, 64)     0           ['dense_161[0][0]']              \n",
      "                                                                                                  \n",
      " dense_162 (Dense)              (None, 1024, 64)     4160        ['dropout_102[0][0]']            \n",
      "                                                                                                  \n",
      " dropout_103 (Dropout)          (None, 1024, 64)     0           ['dense_162[0][0]']              \n",
      "                                                                                                  \n",
      " add_51 (Add)                   (None, 1024, 64)     0           ['dropout_103[0][0]',            \n",
      "                                                                  'add_50[0][0]']                 \n",
      "                                                                                                  \n",
      " layer_normalization_52 (LayerN  (None, 1024, 64)    128         ['add_51[0][0]']                 \n",
      " ormalization)                                                                                    \n",
      "                                                                                                  \n",
      " dense_163 (Dense)              (None, 1024, 256)    16640       ['layer_normalization_52[0][0]'] \n",
      "                                                                                                  \n",
      " tf.reshape_52 (TFOpLambda)     (None, 1024, 16, 16  0           ['dense_163[0][0]']              \n",
      "                                )                                                                 \n",
      "                                                                                                  \n",
      " tf.compat.v1.transpose_52 (TFO  (None, 16, 1024, 16  0          ['tf.reshape_52[0][0]']          \n",
      " pLambda)                       )                                                                 \n",
      "                                                                                                  \n",
      " dense_164 (Dense)              (None, 16, 1024, 16  272         ['tf.compat.v1.transpose_52[0][0]\n",
      "                                )                                ']                               \n",
      "                                                                                                  \n",
      " softmax_26 (Softmax)           (None, 16, 1024, 16  0           ['dense_164[0][0]']              \n",
      "                                )                                                                 \n",
      "                                                                                                  \n",
      " tf.math.reduce_sum_26 (TFOpLam  (None, 16, 1024, 1)  0          ['softmax_26[0][0]']             \n",
      " bda)                                                                                             \n",
      "                                                                                                  \n",
      " tf.__operators__.add_26 (TFOpL  (None, 16, 1024, 1)  0          ['tf.math.reduce_sum_26[0][0]']  \n",
      " ambda)                                                                                           \n",
      "                                                                                                  \n",
      " tf.math.truediv_26 (TFOpLambda  (None, 16, 1024, 16  0          ['softmax_26[0][0]',             \n",
      " )                              )                                 'tf.__operators__.add_26[0][0]']\n",
      "                                                                                                  \n",
      " dropout_104 (Dropout)          (None, 16, 1024, 16  0           ['tf.math.truediv_26[0][0]']     \n",
      "                                )                                                                 \n",
      "                                                                                                  \n",
      " dense_165 (Dense)              (None, 16, 1024, 16  272         ['dropout_104[0][0]']            \n",
      "                                )                                                                 \n",
      "                                                                                                  \n",
      " tf.compat.v1.transpose_53 (TFO  (None, 1024, 16, 16  0          ['dense_165[0][0]']              \n",
      " pLambda)                       )                                                                 \n",
      "                                                                                                  \n",
      " tf.reshape_53 (TFOpLambda)     (None, 1024, 256)    0           ['tf.compat.v1.transpose_53[0][0]\n",
      "                                                                 ']                               \n",
      "                                                                                                  \n",
      " dense_166 (Dense)              (None, 1024, 64)     16448       ['tf.reshape_53[0][0]']          \n",
      "                                                                                                  \n",
      " dropout_105 (Dropout)          (None, 1024, 64)     0           ['dense_166[0][0]']              \n",
      "                                                                                                  \n",
      " add_52 (Add)                   (None, 1024, 64)     0           ['dropout_105[0][0]',            \n",
      "                                                                  'add_51[0][0]']                 \n",
      "                                                                                                  \n",
      " layer_normalization_53 (LayerN  (None, 1024, 64)    128         ['add_52[0][0]']                 \n",
      " ormalization)                                                                                    \n",
      "                                                                                                  \n",
      " dense_167 (Dense)              (None, 1024, 64)     4160        ['layer_normalization_53[0][0]'] \n",
      "                                                                                                  \n",
      " dropout_106 (Dropout)          (None, 1024, 64)     0           ['dense_167[0][0]']              \n",
      "                                                                                                  \n",
      " dense_168 (Dense)              (None, 1024, 64)     4160        ['dropout_106[0][0]']            \n",
      "                                                                                                  \n",
      " dropout_107 (Dropout)          (None, 1024, 64)     0           ['dense_168[0][0]']              \n",
      "                                                                                                  \n",
      " add_53 (Add)                   (None, 1024, 64)     0           ['dropout_107[0][0]',            \n",
      "                                                                  'add_52[0][0]']                 \n",
      "                                                                                                  \n",
      " layer_normalization_54 (LayerN  (None, 1024, 64)    128         ['add_53[0][0]']                 \n",
      " ormalization)                                                                                    \n",
      "                                                                                                  \n",
      " dense_169 (Dense)              (None, 1024, 256)    16640       ['layer_normalization_54[0][0]'] \n",
      "                                                                                                  \n",
      " tf.reshape_54 (TFOpLambda)     (None, 1024, 16, 16  0           ['dense_169[0][0]']              \n",
      "                                )                                                                 \n",
      "                                                                                                  \n",
      " tf.compat.v1.transpose_54 (TFO  (None, 16, 1024, 16  0          ['tf.reshape_54[0][0]']          \n",
      " pLambda)                       )                                                                 \n",
      "                                                                                                  \n",
      " dense_170 (Dense)              (None, 16, 1024, 16  272         ['tf.compat.v1.transpose_54[0][0]\n",
      "                                )                                ']                               \n",
      "                                                                                                  \n",
      " softmax_27 (Softmax)           (None, 16, 1024, 16  0           ['dense_170[0][0]']              \n",
      "                                )                                                                 \n",
      "                                                                                                  \n",
      " tf.math.reduce_sum_27 (TFOpLam  (None, 16, 1024, 1)  0          ['softmax_27[0][0]']             \n",
      " bda)                                                                                             \n",
      "                                                                                                  \n",
      " tf.__operators__.add_27 (TFOpL  (None, 16, 1024, 1)  0          ['tf.math.reduce_sum_27[0][0]']  \n",
      " ambda)                                                                                           \n",
      "                                                                                                  \n",
      " tf.math.truediv_27 (TFOpLambda  (None, 16, 1024, 16  0          ['softmax_27[0][0]',             \n",
      " )                              )                                 'tf.__operators__.add_27[0][0]']\n",
      "                                                                                                  \n",
      " dropout_108 (Dropout)          (None, 16, 1024, 16  0           ['tf.math.truediv_27[0][0]']     \n",
      "                                )                                                                 \n",
      "                                                                                                  \n",
      " dense_171 (Dense)              (None, 16, 1024, 16  272         ['dropout_108[0][0]']            \n",
      "                                )                                                                 \n",
      "                                                                                                  \n",
      " tf.compat.v1.transpose_55 (TFO  (None, 1024, 16, 16  0          ['dense_171[0][0]']              \n",
      " pLambda)                       )                                                                 \n",
      "                                                                                                  \n",
      " tf.reshape_55 (TFOpLambda)     (None, 1024, 256)    0           ['tf.compat.v1.transpose_55[0][0]\n",
      "                                                                 ']                               \n",
      "                                                                                                  \n",
      " dense_172 (Dense)              (None, 1024, 64)     16448       ['tf.reshape_55[0][0]']          \n",
      "                                                                                                  \n",
      " dropout_109 (Dropout)          (None, 1024, 64)     0           ['dense_172[0][0]']              \n",
      "                                                                                                  \n",
      " add_54 (Add)                   (None, 1024, 64)     0           ['dropout_109[0][0]',            \n",
      "                                                                  'add_53[0][0]']                 \n",
      "                                                                                                  \n",
      " layer_normalization_55 (LayerN  (None, 1024, 64)    128         ['add_54[0][0]']                 \n",
      " ormalization)                                                                                    \n",
      "                                                                                                  \n",
      " dense_173 (Dense)              (None, 1024, 64)     4160        ['layer_normalization_55[0][0]'] \n",
      "                                                                                                  \n",
      " dropout_110 (Dropout)          (None, 1024, 64)     0           ['dense_173[0][0]']              \n",
      "                                                                                                  \n",
      " dense_174 (Dense)              (None, 1024, 64)     4160        ['dropout_110[0][0]']            \n",
      "                                                                                                  \n",
      " dropout_111 (Dropout)          (None, 1024, 64)     0           ['dense_174[0][0]']              \n",
      "                                                                                                  \n",
      " add_55 (Add)                   (None, 1024, 64)     0           ['dropout_111[0][0]',            \n",
      "                                                                  'add_54[0][0]']                 \n",
      "                                                                                                  \n",
      " layer_normalization_56 (LayerN  (None, 1024, 64)    128         ['add_55[0][0]']                 \n",
      " ormalization)                                                                                    \n",
      "                                                                                                  \n",
      " dense_175 (Dense)              (None, 1024, 256)    16640       ['layer_normalization_56[0][0]'] \n",
      "                                                                                                  \n",
      " tf.reshape_56 (TFOpLambda)     (None, 1024, 16, 16  0           ['dense_175[0][0]']              \n",
      "                                )                                                                 \n",
      "                                                                                                  \n",
      " tf.compat.v1.transpose_56 (TFO  (None, 16, 1024, 16  0          ['tf.reshape_56[0][0]']          \n",
      " pLambda)                       )                                                                 \n",
      "                                                                                                  \n",
      " dense_176 (Dense)              (None, 16, 1024, 16  272         ['tf.compat.v1.transpose_56[0][0]\n",
      "                                )                                ']                               \n",
      "                                                                                                  \n",
      " softmax_28 (Softmax)           (None, 16, 1024, 16  0           ['dense_176[0][0]']              \n",
      "                                )                                                                 \n",
      "                                                                                                  \n",
      " tf.math.reduce_sum_28 (TFOpLam  (None, 16, 1024, 1)  0          ['softmax_28[0][0]']             \n",
      " bda)                                                                                             \n",
      "                                                                                                  \n",
      " tf.__operators__.add_28 (TFOpL  (None, 16, 1024, 1)  0          ['tf.math.reduce_sum_28[0][0]']  \n",
      " ambda)                                                                                           \n",
      "                                                                                                  \n",
      " tf.math.truediv_28 (TFOpLambda  (None, 16, 1024, 16  0          ['softmax_28[0][0]',             \n",
      " )                              )                                 'tf.__operators__.add_28[0][0]']\n",
      "                                                                                                  \n",
      " dropout_112 (Dropout)          (None, 16, 1024, 16  0           ['tf.math.truediv_28[0][0]']     \n",
      "                                )                                                                 \n",
      "                                                                                                  \n",
      " dense_177 (Dense)              (None, 16, 1024, 16  272         ['dropout_112[0][0]']            \n",
      "                                )                                                                 \n",
      "                                                                                                  \n",
      " tf.compat.v1.transpose_57 (TFO  (None, 1024, 16, 16  0          ['dense_177[0][0]']              \n",
      " pLambda)                       )                                                                 \n",
      "                                                                                                  \n",
      " tf.reshape_57 (TFOpLambda)     (None, 1024, 256)    0           ['tf.compat.v1.transpose_57[0][0]\n",
      "                                                                 ']                               \n",
      "                                                                                                  \n",
      " dense_178 (Dense)              (None, 1024, 64)     16448       ['tf.reshape_57[0][0]']          \n",
      "                                                                                                  \n",
      " dropout_113 (Dropout)          (None, 1024, 64)     0           ['dense_178[0][0]']              \n",
      "                                                                                                  \n",
      " add_56 (Add)                   (None, 1024, 64)     0           ['dropout_113[0][0]',            \n",
      "                                                                  'add_55[0][0]']                 \n",
      "                                                                                                  \n",
      " layer_normalization_57 (LayerN  (None, 1024, 64)    128         ['add_56[0][0]']                 \n",
      " ormalization)                                                                                    \n",
      "                                                                                                  \n",
      " dense_179 (Dense)              (None, 1024, 64)     4160        ['layer_normalization_57[0][0]'] \n",
      "                                                                                                  \n",
      " dropout_114 (Dropout)          (None, 1024, 64)     0           ['dense_179[0][0]']              \n",
      "                                                                                                  \n",
      " dense_180 (Dense)              (None, 1024, 64)     4160        ['dropout_114[0][0]']            \n",
      "                                                                                                  \n",
      " dropout_115 (Dropout)          (None, 1024, 64)     0           ['dense_180[0][0]']              \n",
      "                                                                                                  \n",
      " add_57 (Add)                   (None, 1024, 64)     0           ['dropout_115[0][0]',            \n",
      "                                                                  'add_56[0][0]']                 \n",
      "                                                                                                  \n",
      " layer_normalization_58 (LayerN  (None, 1024, 64)    128         ['add_57[0][0]']                 \n",
      " ormalization)                                                                                    \n",
      "                                                                                                  \n",
      " dense_181 (Dense)              (None, 1024, 256)    16640       ['layer_normalization_58[0][0]'] \n",
      "                                                                                                  \n",
      " tf.reshape_58 (TFOpLambda)     (None, 1024, 16, 16  0           ['dense_181[0][0]']              \n",
      "                                )                                                                 \n",
      "                                                                                                  \n",
      " tf.compat.v1.transpose_58 (TFO  (None, 16, 1024, 16  0          ['tf.reshape_58[0][0]']          \n",
      " pLambda)                       )                                                                 \n",
      "                                                                                                  \n",
      " dense_182 (Dense)              (None, 16, 1024, 16  272         ['tf.compat.v1.transpose_58[0][0]\n",
      "                                )                                ']                               \n",
      "                                                                                                  \n",
      " softmax_29 (Softmax)           (None, 16, 1024, 16  0           ['dense_182[0][0]']              \n",
      "                                )                                                                 \n",
      "                                                                                                  \n",
      " tf.math.reduce_sum_29 (TFOpLam  (None, 16, 1024, 1)  0          ['softmax_29[0][0]']             \n",
      " bda)                                                                                             \n",
      "                                                                                                  \n",
      " tf.__operators__.add_29 (TFOpL  (None, 16, 1024, 1)  0          ['tf.math.reduce_sum_29[0][0]']  \n",
      " ambda)                                                                                           \n",
      "                                                                                                  \n",
      " tf.math.truediv_29 (TFOpLambda  (None, 16, 1024, 16  0          ['softmax_29[0][0]',             \n",
      " )                              )                                 'tf.__operators__.add_29[0][0]']\n",
      "                                                                                                  \n",
      " dropout_116 (Dropout)          (None, 16, 1024, 16  0           ['tf.math.truediv_29[0][0]']     \n",
      "                                )                                                                 \n",
      "                                                                                                  \n",
      " dense_183 (Dense)              (None, 16, 1024, 16  272         ['dropout_116[0][0]']            \n",
      "                                )                                                                 \n",
      "                                                                                                  \n",
      " tf.compat.v1.transpose_59 (TFO  (None, 1024, 16, 16  0          ['dense_183[0][0]']              \n",
      " pLambda)                       )                                                                 \n",
      "                                                                                                  \n",
      " tf.reshape_59 (TFOpLambda)     (None, 1024, 256)    0           ['tf.compat.v1.transpose_59[0][0]\n",
      "                                                                 ']                               \n",
      "                                                                                                  \n",
      " dense_184 (Dense)              (None, 1024, 64)     16448       ['tf.reshape_59[0][0]']          \n",
      "                                                                                                  \n",
      " dropout_117 (Dropout)          (None, 1024, 64)     0           ['dense_184[0][0]']              \n",
      "                                                                                                  \n",
      " add_58 (Add)                   (None, 1024, 64)     0           ['dropout_117[0][0]',            \n",
      "                                                                  'add_57[0][0]']                 \n",
      "                                                                                                  \n",
      " layer_normalization_59 (LayerN  (None, 1024, 64)    128         ['add_58[0][0]']                 \n",
      " ormalization)                                                                                    \n",
      "                                                                                                  \n",
      " dense_185 (Dense)              (None, 1024, 64)     4160        ['layer_normalization_59[0][0]'] \n",
      "                                                                                                  \n",
      " dropout_118 (Dropout)          (None, 1024, 64)     0           ['dense_185[0][0]']              \n",
      "                                                                                                  \n",
      " dense_186 (Dense)              (None, 1024, 64)     4160        ['dropout_118[0][0]']            \n",
      "                                                                                                  \n",
      " dropout_119 (Dropout)          (None, 1024, 64)     0           ['dense_186[0][0]']              \n",
      "                                                                                                  \n",
      " add_59 (Add)                   (None, 1024, 64)     0           ['dropout_119[0][0]',            \n",
      "                                                                  'add_58[0][0]']                 \n",
      "                                                                                                  \n",
      " layer_normalization_60 (LayerN  (None, 1024, 64)    128         ['add_59[0][0]']                 \n",
      " ormalization)                                                                                    \n",
      "                                                                                                  \n",
      " dense_187 (Dense)              (None, 1024, 256)    16640       ['layer_normalization_60[0][0]'] \n",
      "                                                                                                  \n",
      " tf.reshape_60 (TFOpLambda)     (None, 1024, 16, 16  0           ['dense_187[0][0]']              \n",
      "                                )                                                                 \n",
      "                                                                                                  \n",
      " tf.compat.v1.transpose_60 (TFO  (None, 16, 1024, 16  0          ['tf.reshape_60[0][0]']          \n",
      " pLambda)                       )                                                                 \n",
      "                                                                                                  \n",
      " dense_188 (Dense)              (None, 16, 1024, 16  272         ['tf.compat.v1.transpose_60[0][0]\n",
      "                                )                                ']                               \n",
      "                                                                                                  \n",
      " softmax_30 (Softmax)           (None, 16, 1024, 16  0           ['dense_188[0][0]']              \n",
      "                                )                                                                 \n",
      "                                                                                                  \n",
      " tf.math.reduce_sum_30 (TFOpLam  (None, 16, 1024, 1)  0          ['softmax_30[0][0]']             \n",
      " bda)                                                                                             \n",
      "                                                                                                  \n",
      " tf.__operators__.add_30 (TFOpL  (None, 16, 1024, 1)  0          ['tf.math.reduce_sum_30[0][0]']  \n",
      " ambda)                                                                                           \n",
      "                                                                                                  \n",
      " tf.math.truediv_30 (TFOpLambda  (None, 16, 1024, 16  0          ['softmax_30[0][0]',             \n",
      " )                              )                                 'tf.__operators__.add_30[0][0]']\n",
      "                                                                                                  \n",
      " dropout_120 (Dropout)          (None, 16, 1024, 16  0           ['tf.math.truediv_30[0][0]']     \n",
      "                                )                                                                 \n",
      "                                                                                                  \n",
      " dense_189 (Dense)              (None, 16, 1024, 16  272         ['dropout_120[0][0]']            \n",
      "                                )                                                                 \n",
      "                                                                                                  \n",
      " tf.compat.v1.transpose_61 (TFO  (None, 1024, 16, 16  0          ['dense_189[0][0]']              \n",
      " pLambda)                       )                                                                 \n",
      "                                                                                                  \n",
      " tf.reshape_61 (TFOpLambda)     (None, 1024, 256)    0           ['tf.compat.v1.transpose_61[0][0]\n",
      "                                                                 ']                               \n",
      "                                                                                                  \n",
      " dense_190 (Dense)              (None, 1024, 64)     16448       ['tf.reshape_61[0][0]']          \n",
      "                                                                                                  \n",
      " dropout_121 (Dropout)          (None, 1024, 64)     0           ['dense_190[0][0]']              \n",
      "                                                                                                  \n",
      " add_60 (Add)                   (None, 1024, 64)     0           ['dropout_121[0][0]',            \n",
      "                                                                  'add_59[0][0]']                 \n",
      "                                                                                                  \n",
      " layer_normalization_61 (LayerN  (None, 1024, 64)    128         ['add_60[0][0]']                 \n",
      " ormalization)                                                                                    \n",
      "                                                                                                  \n",
      " dense_191 (Dense)              (None, 1024, 64)     4160        ['layer_normalization_61[0][0]'] \n",
      "                                                                                                  \n",
      " dropout_122 (Dropout)          (None, 1024, 64)     0           ['dense_191[0][0]']              \n",
      "                                                                                                  \n",
      " dense_192 (Dense)              (None, 1024, 64)     4160        ['dropout_122[0][0]']            \n",
      "                                                                                                  \n",
      " dropout_123 (Dropout)          (None, 1024, 64)     0           ['dense_192[0][0]']              \n",
      "                                                                                                  \n",
      " add_61 (Add)                   (None, 1024, 64)     0           ['dropout_123[0][0]',            \n",
      "                                                                  'add_60[0][0]']                 \n",
      "                                                                                                  \n",
      " layer_normalization_62 (LayerN  (None, 1024, 64)    128         ['add_61[0][0]']                 \n",
      " ormalization)                                                                                    \n",
      "                                                                                                  \n",
      " dense_193 (Dense)              (None, 1024, 256)    16640       ['layer_normalization_62[0][0]'] \n",
      "                                                                                                  \n",
      " tf.reshape_62 (TFOpLambda)     (None, 1024, 16, 16  0           ['dense_193[0][0]']              \n",
      "                                )                                                                 \n",
      "                                                                                                  \n",
      " tf.compat.v1.transpose_62 (TFO  (None, 16, 1024, 16  0          ['tf.reshape_62[0][0]']          \n",
      " pLambda)                       )                                                                 \n",
      "                                                                                                  \n",
      " dense_194 (Dense)              (None, 16, 1024, 16  272         ['tf.compat.v1.transpose_62[0][0]\n",
      "                                )                                ']                               \n",
      "                                                                                                  \n",
      " softmax_31 (Softmax)           (None, 16, 1024, 16  0           ['dense_194[0][0]']              \n",
      "                                )                                                                 \n",
      "                                                                                                  \n",
      " tf.math.reduce_sum_31 (TFOpLam  (None, 16, 1024, 1)  0          ['softmax_31[0][0]']             \n",
      " bda)                                                                                             \n",
      "                                                                                                  \n",
      " tf.__operators__.add_31 (TFOpL  (None, 16, 1024, 1)  0          ['tf.math.reduce_sum_31[0][0]']  \n",
      " ambda)                                                                                           \n",
      "                                                                                                  \n",
      " tf.math.truediv_31 (TFOpLambda  (None, 16, 1024, 16  0          ['softmax_31[0][0]',             \n",
      " )                              )                                 'tf.__operators__.add_31[0][0]']\n",
      "                                                                                                  \n",
      " dropout_124 (Dropout)          (None, 16, 1024, 16  0           ['tf.math.truediv_31[0][0]']     \n",
      "                                )                                                                 \n",
      "                                                                                                  \n",
      " dense_195 (Dense)              (None, 16, 1024, 16  272         ['dropout_124[0][0]']            \n",
      "                                )                                                                 \n",
      "                                                                                                  \n",
      " tf.compat.v1.transpose_63 (TFO  (None, 1024, 16, 16  0          ['dense_195[0][0]']              \n",
      " pLambda)                       )                                                                 \n",
      "                                                                                                  \n",
      " tf.reshape_63 (TFOpLambda)     (None, 1024, 256)    0           ['tf.compat.v1.transpose_63[0][0]\n",
      "                                                                 ']                               \n",
      "                                                                                                  \n",
      " dense_196 (Dense)              (None, 1024, 64)     16448       ['tf.reshape_63[0][0]']          \n",
      "                                                                                                  \n",
      " dropout_125 (Dropout)          (None, 1024, 64)     0           ['dense_196[0][0]']              \n",
      "                                                                                                  \n",
      " add_62 (Add)                   (None, 1024, 64)     0           ['dropout_125[0][0]',            \n",
      "                                                                  'add_61[0][0]']                 \n",
      "                                                                                                  \n",
      " layer_normalization_63 (LayerN  (None, 1024, 64)    128         ['add_62[0][0]']                 \n",
      " ormalization)                                                                                    \n",
      "                                                                                                  \n",
      " dense_197 (Dense)              (None, 1024, 64)     4160        ['layer_normalization_63[0][0]'] \n",
      "                                                                                                  \n",
      " dropout_126 (Dropout)          (None, 1024, 64)     0           ['dense_197[0][0]']              \n",
      "                                                                                                  \n",
      " dense_198 (Dense)              (None, 1024, 64)     4160        ['dropout_126[0][0]']            \n",
      "                                                                                                  \n",
      " dropout_127 (Dropout)          (None, 1024, 64)     0           ['dense_198[0][0]']              \n",
      "                                                                                                  \n",
      " add_63 (Add)                   (None, 1024, 64)     0           ['dropout_127[0][0]',            \n",
      "                                                                  'add_62[0][0]']                 \n",
      "                                                                                                  \n",
      " global_average_pooling1d_3 (Gl  (None, 64)          0           ['add_63[0][0]']                 \n",
      " obalAveragePooling1D)                                                                            \n",
      "                                                                                                  \n",
      " dense_199 (Dense)              (None, 4)            260         ['global_average_pooling1d_3[0][0\n",
      "                                                                 ]']                              \n",
      "                                                                                                  \n",
      "==================================================================================================\n",
      "Total params: 404,299\n",
      "Trainable params: 404,292\n",
      "Non-trainable params: 7\n",
      "__________________________________________________________________________________________________\n"
     ]
    }
   ],
   "source": [
    "##Train on data\n",
    "model = get_model(attention_type=\"external_attention\")\n",
    "\n",
    "model.compile(\n",
    "    loss=keras.losses.CategoricalCrossentropy(label_smoothing=label_smoothing),\n",
    "    optimizer= tf.optimizers.Adam(\n",
    "         learning_rate=learning_rate#, weight_decay=weight_decay\n",
    "    ),\n",
    "    #optimizer=tfa.optimizers.AdamW( learning_rate=learning_rate, weight_decay=weight_decay),\n",
    "    metrics=[\n",
    "        keras.metrics.CategoricalAccuracy(name=\"accuracy\")\n",
    "    ],\n",
    ")\n",
    "model.summary()"
   ]
  },
  {
   "cell_type": "code",
   "execution_count": 61,
   "metadata": {
    "colab": {
     "base_uri": "https://localhost:8080/"
    },
    "id": "1c09PylsUbtz",
    "outputId": "3ac263fe-66e7-4085-da90-f4a37da8bc0b"
   },
   "outputs": [
    {
     "name": "stdout",
     "output_type": "stream",
     "text": [
      "Epoch 1/25\n",
      "218/218 [==============================] - 69s 271ms/step - loss: 1.1391 - accuracy: 0.5716 - val_loss: 1.0628 - val_accuracy: 0.5596\n",
      "Epoch 2/25\n",
      "218/218 [==============================] - 56s 258ms/step - loss: 1.0182 - accuracy: 0.6381 - val_loss: 1.0659 - val_accuracy: 0.6428\n",
      "Epoch 3/25\n",
      "218/218 [==============================] - 56s 257ms/step - loss: 0.9566 - accuracy: 0.6731 - val_loss: 1.0192 - val_accuracy: 0.6990\n",
      "Epoch 4/25\n",
      "218/218 [==============================] - 56s 258ms/step - loss: 0.9168 - accuracy: 0.6929 - val_loss: 1.0467 - val_accuracy: 0.6697\n",
      "Epoch 5/25\n",
      "218/218 [==============================] - 56s 257ms/step - loss: 0.9005 - accuracy: 0.7022 - val_loss: 0.9499 - val_accuracy: 0.6995\n",
      "Epoch 6/25\n",
      "218/218 [==============================] - 56s 257ms/step - loss: 0.8882 - accuracy: 0.7074 - val_loss: 1.0111 - val_accuracy: 0.7041\n",
      "Epoch 7/25\n",
      "218/218 [==============================] - 56s 258ms/step - loss: 0.8634 - accuracy: 0.7246 - val_loss: 0.9459 - val_accuracy: 0.7248\n",
      "Epoch 8/25\n",
      "218/218 [==============================] - 56s 257ms/step - loss: 0.8503 - accuracy: 0.7286 - val_loss: 0.9633 - val_accuracy: 0.7317\n",
      "Epoch 9/25\n",
      "218/218 [==============================] - 56s 258ms/step - loss: 0.8364 - accuracy: 0.7373 - val_loss: 0.9923 - val_accuracy: 0.7414\n",
      "Epoch 10/25\n",
      "218/218 [==============================] - 56s 257ms/step - loss: 0.8156 - accuracy: 0.7504 - val_loss: 0.8851 - val_accuracy: 0.7385\n",
      "Epoch 11/25\n",
      "218/218 [==============================] - 56s 257ms/step - loss: 0.7962 - accuracy: 0.7616 - val_loss: 1.0084 - val_accuracy: 0.7104\n",
      "Epoch 12/25\n",
      "218/218 [==============================] - 56s 258ms/step - loss: 0.7748 - accuracy: 0.7831 - val_loss: 0.8454 - val_accuracy: 0.7769\n",
      "Epoch 13/25\n",
      "218/218 [==============================] - 56s 258ms/step - loss: 0.7747 - accuracy: 0.7745 - val_loss: 1.1868 - val_accuracy: 0.6560\n",
      "Epoch 14/25\n",
      "218/218 [==============================] - 56s 259ms/step - loss: 0.7543 - accuracy: 0.7915 - val_loss: 1.2868 - val_accuracy: 0.6479\n",
      "Epoch 15/25\n",
      "218/218 [==============================] - 56s 257ms/step - loss: 0.7306 - accuracy: 0.8004 - val_loss: 1.1647 - val_accuracy: 0.6571\n",
      "Epoch 16/25\n",
      "218/218 [==============================] - 56s 257ms/step - loss: 0.7162 - accuracy: 0.8103 - val_loss: 0.7800 - val_accuracy: 0.7930\n",
      "Epoch 17/25\n",
      "218/218 [==============================] - 56s 257ms/step - loss: 0.7085 - accuracy: 0.8090 - val_loss: 1.1954 - val_accuracy: 0.6984\n",
      "Epoch 18/25\n",
      "218/218 [==============================] - 56s 257ms/step - loss: 0.6915 - accuracy: 0.8204 - val_loss: 0.7787 - val_accuracy: 0.8205\n",
      "Epoch 19/25\n",
      "218/218 [==============================] - 56s 257ms/step - loss: 0.6761 - accuracy: 0.8255 - val_loss: 1.1406 - val_accuracy: 0.6772\n",
      "Epoch 20/25\n",
      "218/218 [==============================] - 56s 258ms/step - loss: 0.6503 - accuracy: 0.8456 - val_loss: 0.8279 - val_accuracy: 0.7930\n",
      "Epoch 21/25\n",
      "218/218 [==============================] - 56s 257ms/step - loss: 0.6386 - accuracy: 0.8485 - val_loss: 0.9140 - val_accuracy: 0.7649\n",
      "Epoch 22/25\n",
      "218/218 [==============================] - 56s 258ms/step - loss: 0.6495 - accuracy: 0.8429 - val_loss: 0.7487 - val_accuracy: 0.8372\n",
      "Epoch 23/25\n",
      "218/218 [==============================] - 56s 257ms/step - loss: 0.6234 - accuracy: 0.8565 - val_loss: 0.7705 - val_accuracy: 0.8119\n",
      "Epoch 24/25\n",
      "218/218 [==============================] - 56s 257ms/step - loss: 0.6237 - accuracy: 0.8555 - val_loss: 0.7442 - val_accuracy: 0.8177\n",
      "Epoch 25/25\n",
      "218/218 [==============================] - 56s 258ms/step - loss: 0.6061 - accuracy: 0.8695 - val_loss: 0.7655 - val_accuracy: 0.8337\n"
     ]
    }
   ],
   "source": [
    "history = model.fit(\n",
    "    x_train,\n",
    "    y_train,\n",
    "    batch_size=batch_size,\n",
    "    epochs=num_epochs,\n",
    "    validation_split=validation_split,\n",
    ")"
   ]
  },
  {
   "cell_type": "code",
   "execution_count": 62,
   "metadata": {
    "colab": {
     "base_uri": "https://localhost:8080/",
     "height": 308
    },
    "id": "i8RbWXcAUstR",
    "outputId": "6cca74ee-6474-466d-cbbf-6ed683c4b414"
   },
   "outputs": [
    {
     "data": {
      "image/png": "[encoded data removed]",
      "text/plain": [
       "<Figure size 864x288 with 2 Axes>"
      ]
     },
     "metadata": {
      "needs_background": "light"
     },
     "output_type": "display_data"
    }
   ],
   "source": [
    "f, (ax1, ax2) = plt.subplots(1, 2, figsize=(12, 4))\n",
    "t = f.suptitle('EANet model', fontsize=12)\n",
    "f.subplots_adjust(top=0.85, wspace=0.3)\n",
    "\n",
    "max_epoch = len(history.history['accuracy'])+1\n",
    "epoch_list = list(range(1,max_epoch))\n",
    "ax1.plot(epoch_list, history.history['accuracy'], label='Train Accuracy')\n",
    "ax1.plot(epoch_list, history.history['val_accuracy'], label='Validation Accuracy')\n",
    "ax1.set_xticks(np.arange(1, max_epoch, 5))\n",
    "ax1.set_ylabel('Accuracy Value')\n",
    "ax1.set_xlabel('Epoch')\n",
    "ax1.set_title('Accuracy')\n",
    "l1 = ax1.legend(loc=\"best\")\n",
    "\n",
    "ax2.plot(epoch_list, history.history['loss'], label='Train Loss')\n",
    "ax2.plot(epoch_list, history.history['val_loss'], label='Validation Loss')\n",
    "ax2.set_xticks(np.arange(1, max_epoch, 5))\n",
    "ax2.set_ylabel('Loss Value')\n",
    "ax2.set_xlabel('Epoch')\n",
    "ax2.set_title('Loss')\n",
    "l2 = ax2.legend(loc=\"best\")"
   ]
  },
  {
   "cell_type": "code",
   "execution_count": null,
   "metadata": {
    "id": "JLPYuc08Aw0E"
   },
   "outputs": [],
   "source": [
    "model.save('KidneyStoneDetector_EANet.h5')"
   ]
  },
  {
   "cell_type": "code",
   "execution_count": null,
   "metadata": {
    "id": "Aqxk4BrTdUms"
   },
   "outputs": [],
   "source": [
    "model.save('/content/drive/MyDrive/Colab_Notebooks/Kidneystone/KidneyStoneDetector_EANet.h5')"
   ]
  },
  {
   "cell_type": "code",
   "execution_count": 63,
   "metadata": {
    "colab": {
     "base_uri": "https://localhost:8080/"
    },
    "id": "KlxQlVIIAwwq",
    "outputId": "87e017b4-6c82-4cd4-b868-964c671232fd"
   },
   "outputs": [
    {
     "name": "stdout",
     "output_type": "stream",
     "text": [
      "Training score: 0.7482829093933105\n",
      "Training accuracy: 83.7022602558136\n"
     ]
    }
   ],
   "source": [
    "# Model evaluated on training data\n",
    "score = model.evaluate(x_train, y_train, verbose=0)\n",
    "print('Training score:', score[0])\n",
    "print('Training accuracy:', score[1] * 100)"
   ]
  },
  {
   "cell_type": "code",
   "execution_count": 64,
   "metadata": {
    "colab": {
     "base_uri": "https://localhost:8080/"
    },
    "id": "aaU51ofIAwt1",
    "outputId": "073038e2-5654-4844-94e1-e507370faeeb"
   },
   "outputs": [
    {
     "name": "stdout",
     "output_type": "stream",
     "text": [
      "Testing score: 0.7475196719169617\n",
      "Testing accuracy: 83.64998698234558\n"
     ]
    }
   ],
   "source": [
    "# Model evaluated on testing data\n",
    "score= model.evaluate(x_test, y_test, verbose=0)\n",
    "print('Testing score:', score[0])\n",
    "print('Testing accuracy:', score[1] * 100)"
   ]
  },
  {
   "cell_type": "code",
   "execution_count": 65,
   "metadata": {
    "colab": {
     "base_uri": "https://localhost:8080/"
    },
    "id": "OuVUzxaVAwqo",
    "outputId": "59ce1eb5-4c69-4884-a346-28c8d7491aeb"
   },
   "outputs": [
    {
     "data": {
      "text/plain": [
       "(array([1, 1, 0, 1, 1, 2]), array([1, 1, 0, 1, 1, 0]))"
      ]
     },
     "execution_count": 65,
     "metadata": {},
     "output_type": "execute_result"
    }
   ],
   "source": [
    "y_pre_test=model.predict(x_test)\n",
    "y_pre_test=np.argmax(y_pre_test,axis=1)\n",
    "categories = ['Cyst','Normal', 'Stone','Tumor']\n",
    "test_labels_enc[:6], y_pre_test[:6]"
   ]
  },
  {
   "cell_type": "code",
   "execution_count": 66,
   "metadata": {
    "colab": {
     "base_uri": "https://localhost:8080/"
    },
    "id": "-mT61bE5Awng",
    "outputId": "d17848a2-7fe6-4460-e827-d7154e0b5c20"
   },
   "outputs": [
    {
     "name": "stdout",
     "output_type": "stream",
     "text": [
      "Test Result:\n",
      "================================================\n",
      "Accuracy Score: 83.65%\n",
      "_______________________________________________\n",
      "CLASSIFICATION REPORT:\n",
      "                  Cyst       Normal       Stone       Tumor  accuracy  \\\n",
      "precision     0.729766     0.980014    0.700535    0.811927    0.8365   \n",
      "recall        0.995438     0.872854    0.314149    0.815668    0.8365   \n",
      "f1-score      0.842146     0.923336    0.433775    0.813793    0.8365   \n",
      "support    1096.000000  1573.000000  417.000000  651.000000    0.8365   \n",
      "\n",
      "             macro avg  weighted avg  \n",
      "precision     0.805560      0.846153  \n",
      "recall        0.749527      0.836500  \n",
      "f1-score      0.753262      0.825813  \n",
      "support    3737.000000   3737.000000  \n"
     ]
    }
   ],
   "source": [
    "clf_report = pd.DataFrame(classification_report(test_labels_enc, y_pre_test,target_names=categories, output_dict=True))\n",
    "cm = confusion_matrix(test_labels_enc, y_pre_test)\n",
    "print(\"Test Result:\\n================================================\")\n",
    "print(f\"Accuracy Score: {accuracy_score(test_labels_enc, y_pre_test) * 100:.2f}%\")\n",
    "print(\"_______________________________________________\")\n",
    "print(f\"CLASSIFICATION REPORT:\\n{clf_report}\")"
   ]
  },
  {
   "cell_type": "code",
   "execution_count": 67,
   "metadata": {
    "id": "0YXhkcgjAwbK"
   },
   "outputs": [],
   "source": [
    "from sklearn.metrics import roc_curve, auc\n",
    "from itertools import cycle\n",
    "from sklearn.preprocessing import label_binarize\n",
    "from sklearn.metrics import roc_auc_score\n",
    "from sklearn.metrics import RocCurveDisplay\n",
    "import seaborn as sn\n",
    "def plot_multiclass_roc(clf, X_test, y_test, n_classes, figsize=(17, 6)):\n",
    "    #y_score = clf.decision_function(X_test)\n",
    "    y_score=model.predict(X_test)\n",
    "\n",
    "    # structures\n",
    "    fpr = dict()\n",
    "    tpr = dict()\n",
    "    roc_auc = dict()\n",
    "\n",
    "    # calculate dummies once\n",
    "    y_test_dummies = pd.get_dummies(y_test, drop_first=False).values\n",
    "    for i in range(n_classes):\n",
    "        fpr[i], tpr[i], _ = roc_curve(y_test_dummies[:, i], y_score[:, i])\n",
    "        roc_auc[i] = auc(fpr[i], tpr[i])\n",
    "\n",
    "    # roc for each class\n",
    "    fig, ax = plt.subplots(figsize=figsize)\n",
    "    ax.plot([0, 1], [0, 1], 'k--')\n",
    "    ax.set_xlim([0.0, 1.0])\n",
    "    ax.set_ylim([0.0, 1.05])\n",
    "    ax.set_xlabel('False Positive Rate')\n",
    "    ax.set_ylabel('True Positive Rate')\n",
    "    ax.set_title('Receiver operating characteristic example')\n",
    "    for i in range(n_classes):\n",
    "        ax.plot(fpr[i], tpr[i], label='ROC curve (area = %0.2f) for label %i' % (roc_auc[i], i))\n",
    "    ax.legend(loc=\"best\")\n",
    "    ax.grid(alpha=.4)\n",
    "    sn.despine()\n",
    "    plt.show()"
   ]
  },
  {
   "cell_type": "code",
   "execution_count": 68,
   "metadata": {
    "colab": {
     "base_uri": "https://localhost:8080/",
     "height": 404
    },
    "id": "GjRwz7S7BJiO",
    "outputId": "20a317c0-cd00-479a-fc03-eaaa61d805e0"
   },
   "outputs": [
    {
     "data": {
      "image/png": "[encoded data removed]",
      "text/plain": [
       "<Figure size 720x432 with 1 Axes>"
      ]
     },
     "metadata": {
      "needs_background": "light"
     },
     "output_type": "display_data"
    }
   ],
   "source": [
    "plot_multiclass_roc(model, x_test, test_labels_enc, n_classes=4, figsize=(10, 6))"
   ]
  },
  {
   "cell_type": "code",
   "execution_count": 69,
   "metadata": {
    "colab": {
     "base_uri": "https://localhost:8080/"
    },
    "id": "sqM1Dj4pBJXx",
    "outputId": "62156897-a5ae-4148-c539-801532f180a7"
   },
   "outputs": [
    {
     "name": "stdout",
     "output_type": "stream",
     "text": [
      "One-vs-One ROC AUC scores:\n",
      "0.918325 (macro),\n",
      "0.926238 (weighted by prevalence)\n",
      "One-vs-Rest ROC AUC scores:\n",
      "0.920873 (macro),\n",
      "0.949423 (weighted by prevalence)\n"
     ]
    }
   ],
   "source": [
    "# ROC AUC scores\n",
    "y_pred=model.predict(x_test)\n",
    "macro_roc_auc_ovo = roc_auc_score(test_labels_enc, y_pred, multi_class=\"ovo\", average=\"macro\")\n",
    "weighted_roc_auc_ovo = roc_auc_score(test_labels_enc, y_pred, multi_class=\"ovo\", average=\"weighted\")\n",
    "\n",
    "macro_roc_auc_ovr = roc_auc_score(test_labels_enc,y_pred, multi_class=\"ovr\", average=\"macro\")\n",
    "weighted_roc_auc_ovr = roc_auc_score(test_labels_enc, y_pred, multi_class=\"ovr\", average=\"weighted\")\n",
    "print(\n",
    "    \"One-vs-One ROC AUC scores:\\n{:.6f} (macro),\\n{:.6f} \"\n",
    "    \"(weighted by prevalence)\".format(macro_roc_auc_ovo, weighted_roc_auc_ovo)\n",
    ")\n",
    "print(\n",
    "    \"One-vs-Rest ROC AUC scores:\\n{:.6f} (macro),\\n{:.6f} \"\n",
    "    \"(weighted by prevalence)\".format(macro_roc_auc_ovr, weighted_roc_auc_ovr)\n",
    ")"
   ]
  },
  {
   "cell_type": "code",
   "execution_count": 70,
   "metadata": {
    "id": "QD5LprJGBRSv"
   },
   "outputs": [],
   "source": [
    "# Confusion Matrix\n",
    "import numpy as np\n",
    "import matplotlib.pyplot as plt\n",
    "import seaborn as sns\n",
    "\n",
    "def make_confusion_matrix(cf,\n",
    "                          group_names=None,\n",
    "                          categories='auto',\n",
    "                          count=True,\n",
    "                          percent=True,\n",
    "                          cbar=True,\n",
    "                          xyticks=True,\n",
    "                          xyplotlabels=True,\n",
    "                          sum_stats=True,\n",
    "                          figsize=None,\n",
    "                          cmap='Blues',\n",
    "                          title=None):\n",
    "    '''\n",
    "    This function will make a pretty plot of an sklearn Confusion Matrix cm using a Seaborn heatmap visualization.\n",
    "\n",
    "    Arguments\n",
    "    ---------\n",
    "    cf:            confusion matrix to be passed in\n",
    "\n",
    "    group_names:   List of strings that represent the labels row by row to be shown in each square.\n",
    "\n",
    "    categories:    List of strings containing the categories to be displayed on the x,y axis. Default is 'auto'\n",
    "\n",
    "    count:         If True, show the raw number in the confusion matrix. Default is True.\n",
    "\n",
    "    normalize:     If True, show the proportions for each category. Default is True.\n",
    "\n",
    "    cbar:          If True, show the color bar. The cbar values are based off the values in the confusion matrix.\n",
    "                   Default is True.\n",
    "\n",
    "    xyticks:       If True, show x and y ticks. Default is True.\n",
    "\n",
    "    xyplotlabels:  If True, show 'True Label' and 'Predicted Label' on the figure. Default is True.\n",
    "\n",
    "    sum_stats:     If True, display summary statistics below the figure. Default is True.\n",
    "\n",
    "    figsize:       Tuple representing the figure size. Default will be the matplotlib rcParams value.\n",
    "\n",
    "    cmap:          Colormap of the values displayed from matplotlib.pyplot.cm. Default is 'Blues'\n",
    "                   See http://matplotlib.org/examples/color/colormaps_reference.html\n",
    "                   \n",
    "    title:         Title for the heatmap. Default is None.\n",
    "\n",
    "    '''\n",
    "\n",
    "\n",
    "    # CODE TO GENERATE TEXT INSIDE EACH SQUARE\n",
    "    blanks = ['' for i in range(cf.size)]\n",
    "\n",
    "    if group_names and len(group_names)==cf.size:\n",
    "        group_labels = [\"{}\\n\".format(value) for value in group_names]\n",
    "    else:\n",
    "        group_labels = blanks\n",
    "\n",
    "    if count:\n",
    "        group_counts = [\"{0:0.0f}\\n\".format(value) for value in cf.flatten()]\n",
    "    else:\n",
    "        group_counts = blanks\n",
    "\n",
    "    if percent:\n",
    "        group_percentages = [\"{0:.2%}\".format(value) for value in cf.flatten()/np.sum(cf)]\n",
    "    else:\n",
    "        group_percentages = blanks\n",
    "\n",
    "    box_labels = [f\"{v1}{v2}{v3}\".strip() for v1, v2, v3 in zip(group_labels,group_counts,group_percentages)]\n",
    "    box_labels = np.asarray(box_labels).reshape(cf.shape[0],cf.shape[1])\n",
    "\n",
    "\n",
    "    # CODE TO GENERATE SUMMARY STATISTICS & TEXT FOR SUMMARY STATS\n",
    "    if sum_stats:\n",
    "        #Accuracy is sum of diagonal divided by total observations\n",
    "        accuracy  = np.trace(cf) / float(np.sum(cf))\n",
    "\n",
    "        #if it is a binary confusion matrix, show some more stats\n",
    "        if len(cf)==2:\n",
    "            #Metrics for Binary Confusion Matrices\n",
    "            precision = cf[1,1] / sum(cf[:,1])\n",
    "            recall    = cf[1,1] / sum(cf[1,:])\n",
    "            f1_score  = 2*precision*recall / (precision + recall)\n",
    "            stats_text = \"\\n\\nAccuracy={:0.3f}\\nPrecision={:0.3f}\\nRecall={:0.3f}\\nF1 Score={:0.3f}\".format(\n",
    "                accuracy,precision,recall,f1_score)\n",
    "        else:\n",
    "            stats_text = \"\\n\\nAccuracy={:0.3f}\".format(accuracy)\n",
    "    else:\n",
    "        stats_text = \"\"\n",
    "\n",
    "\n",
    "    # SET FIGURE PARAMETERS ACCORDING TO OTHER ARGUMENTS\n",
    "    if figsize==None:\n",
    "        #Get default figure size if not set\n",
    "        figsize = plt.rcParams.get('figure.figsize')\n",
    "\n",
    "    if xyticks==False:\n",
    "        #Do not show categories if xyticks is False\n",
    "        categories=False\n",
    "\n",
    "\n",
    "    # MAKE THE HEATMAP VISUALIZATION\n",
    "    plt.figure(figsize=figsize)\n",
    "    sns.heatmap(cf,annot=box_labels,fmt=\"\",cmap=cmap,cbar=cbar,xticklabels=categories,yticklabels=categories)\n",
    "\n",
    "    if xyplotlabels:\n",
    "        plt.ylabel('True label')\n",
    "        plt.xlabel('Predicted label' + stats_text)\n",
    "    else:\n",
    "        plt.xlabel(stats_text)\n",
    "    \n",
    "    if title:\n",
    "        plt.title(title)"
   ]
  },
  {
   "cell_type": "code",
   "execution_count": 71,
   "metadata": {
    "colab": {
     "base_uri": "https://localhost:8080/",
     "height": 411
    },
    "id": "kB_LFYv0BSNn",
    "outputId": "b77b6cb6-0c19-45f5-efd5-4d09e089320e"
   },
   "outputs": [
    {
     "data": {
      "image/png": "[encoded data removed]",
      "text/plain": [
       "<Figure size 432x432 with 1 Axes>"
      ]
     },
     "metadata": {
      "needs_background": "light"
     },
     "output_type": "display_data"
    }
   ],
   "source": [
    "# Cyst = 0 ,  Normal =1  , Stone =2 , Tumor = 3\n",
    "categories = ['Cyst','Normal', 'Stone','Tumor']\n",
    "make_confusion_matrix(cm, categories=categories,figsize=(6,6), cbar=False)\n",
    "plt.savefig(\"ConfusionMatrix.png\")"
   ]
  }
 ],
 "metadata": {
  "accelerator": "GPU",
  "colab": {
   "collapsed_sections": [],
   "provenance": []
  },
  "gpuClass": "standard",
  "kernelspec": {
   "display_name": "Python 3 (ipykernel)",
   "language": "python",
   "name": "python3"
  },
  "language_info": {
   "codemirror_mode": {
    "name": "ipython",
    "version": 3
   },
   "file_extension": ".py",
   "mimetype": "text/x-python",
   "name": "python",
   "nbconvert_exporter": "python",
   "pygments_lexer": "ipython3",
   "version": "3.9.12"
  }
 },
 "nbformat": 4,
 "nbformat_minor": 1
}
